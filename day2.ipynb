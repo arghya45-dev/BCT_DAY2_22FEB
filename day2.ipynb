{
 "cells": [
  {
   "cell_type": "code",
   "execution_count": 1,
   "metadata": {},
   "outputs": [
    {
     "name": "stdout",
     "output_type": "stream",
     "text": [
      "Prime numbers between 10 and 20:\n",
      "11 13 17 19 "
     ]
    }
   ],
   "source": [
    "#print prime number from a range given by user\n",
    "start = int(input(\"Enter the start range number: \"))\n",
    "end = int(input(\"Enter the end range number: \"))\n",
    "\n",
    "print(f\"Prime numbers between {start} and {end}:\")\n",
    "\n",
    "for num in range(start, end + 1):\n",
    "    if num > 1:\n",
    "        is_prime = True\n",
    "        for i in range(2, int(num ** 0.5) + 1):\n",
    "            if num % i == 0:\n",
    "                is_prime = False\n",
    "                break\n",
    "        if is_prime:\n",
    "            print(num, end=\" \")\n"
   ]
  },
  {
   "cell_type": "code",
   "execution_count": 2,
   "metadata": {},
   "outputs": [
    {
     "name": "stdout",
     "output_type": "stream",
     "text": [
      "10,20,30,"
     ]
    }
   ],
   "source": [
    "l=[]\n",
    "l.append(10)\n",
    "l.append(20)\n",
    "l.append(30)\n",
    "\n",
    "for x in l :\n",
    "    print(x,end=(\",\"))"
   ]
  },
  {
   "cell_type": "code",
   "execution_count": null,
   "metadata": {},
   "outputs": [
    {
     "name": "stdout",
     "output_type": "stream",
     "text": [
      "[10, 20, 30]\n",
      "[10, 50, 20, 30]\n"
     ]
    }
   ],
   "source": [
    "#insert\n",
    "a=[10,20]\n",
    "a.insert(2,30)\n",
    "print(a)\n",
    "\n",
    "\n",
    "a.insert(1,50)\n",
    "print(a)"
   ]
  },
  {
   "cell_type": "code",
   "execution_count": 5,
   "metadata": {},
   "outputs": [
    {
     "name": "stdout",
     "output_type": "stream",
     "text": [
      "[10, 20, 30]\n",
      "[100, 20, 30]\n"
     ]
    }
   ],
   "source": [
    "#replace\n",
    "l=[10,20,30]\n",
    "print(l)\n",
    "l[0]=100\n",
    "print(l)"
   ]
  },
  {
   "cell_type": "code",
   "execution_count": null,
   "metadata": {},
   "outputs": [
    {
     "name": "stdout",
     "output_type": "stream",
     "text": [
      "[10, 20, 30]\n",
      "[10, 30]\n"
     ]
    }
   ],
   "source": [
    "#delete\n",
    "l=[10,20,30]\n",
    "print(l)\n",
    "l.remove(20)\n",
    "print(l)"
   ]
  },
  {
   "cell_type": "code",
   "execution_count": null,
   "metadata": {},
   "outputs": [
    {
     "data": {
      "text/plain": [
       "[1, 2, 3, 4, 5]"
      ]
     },
     "execution_count": 11,
     "metadata": {},
     "output_type": "execute_result"
    }
   ],
   "source": [
    "#reverse\n",
    "l=[5,4,3,2,1]\n",
    "l.reverse()\n",
    "l"
   ]
  },
  {
   "cell_type": "code",
   "execution_count": 12,
   "metadata": {},
   "outputs": [
    {
     "data": {
      "text/plain": [
       "[1, 2, 3, 4, 5]"
      ]
     },
     "execution_count": 12,
     "metadata": {},
     "output_type": "execute_result"
    }
   ],
   "source": [
    "#sort\n",
    "l=[5,4,3,2,1]\n",
    "l.sort()\n",
    "l"
   ]
  },
  {
   "cell_type": "code",
   "execution_count": 16,
   "metadata": {},
   "outputs": [
    {
     "name": "stdout",
     "output_type": "stream",
     "text": [
      "[10]\n"
     ]
    }
   ],
   "source": [
    "#add a number in a list\n",
    "l=[]\n",
    "\n",
    "l.insert(0,10)\n",
    "print(l)"
   ]
  },
  {
   "cell_type": "code",
   "execution_count": 22,
   "metadata": {},
   "outputs": [
    {
     "name": "stdout",
     "output_type": "stream",
     "text": [
      "60\n"
     ]
    }
   ],
   "source": [
    "#sum of the value of a list\n",
    "# l=[10,20,30]\n",
    "\n",
    "# total=sum(l)\n",
    "# print(total)\n",
    "\n",
    "l=[10,20,30]\n",
    "total=0\n",
    "\n",
    "for num in l:\n",
    "    total += num\n",
    "    \n",
    "print(total)"
   ]
  },
  {
   "cell_type": "code",
   "execution_count": 23,
   "metadata": {},
   "outputs": [
    {
     "data": {
      "text/plain": [
       "' name in a'"
      ]
     },
     "execution_count": 23,
     "metadata": {},
     "output_type": "execute_result"
    }
   ],
   "source": [
    "#slicing func \n",
    "S1='my name in arghya'\n",
    "S1[2 : 12]\n",
    "\n",
    "\n"
   ]
  },
  {
   "cell_type": "code",
   "execution_count": 24,
   "metadata": {},
   "outputs": [
    {
     "data": {
      "text/plain": [
       "'ayhgra ni eman ym'"
      ]
     },
     "execution_count": 24,
     "metadata": {},
     "output_type": "execute_result"
    }
   ],
   "source": [
    "#slicing func reverse\n",
    "S1='my name in arghya'\n",
    "S1[::-1]"
   ]
  },
  {
   "cell_type": "code",
   "execution_count": 25,
   "metadata": {},
   "outputs": [
    {
     "name": "stdout",
     "output_type": "stream",
     "text": [
      "Vowels in 'hello': eo\n"
     ]
    }
   ],
   "source": [
    "#write a program to count vowles in a word\n",
    "s1='hello'\n",
    "vowles ='aeiouAEIOU'\n",
    "vowles_are=''\n",
    "\n",
    "for char in s1:\n",
    "    if char in vowles:\n",
    "        vowles_are+=char+''\n",
    "        \n",
    "if vowles_are:\n",
    "    print(f\"Vowels in '{s1}': {vowles_are}\")\n",
    "else:\n",
    "     print(f\"No vowels found in '{s1}'\")"
   ]
  },
  {
   "cell_type": "code",
   "execution_count": 1,
   "metadata": {},
   "outputs": [
    {
     "name": "stdout",
     "output_type": "stream",
     "text": [
      "Number of data types in tuple: 3\n"
     ]
    }
   ],
   "source": [
    "#write a program to find the number of datatype present in a tuple\n",
    "tuple_value =(1, 2, 3, 'abc', 1.3)\n",
    "datatype=[]\n",
    "\n",
    "for i in tuple_value:\n",
    "    t=type(i)\n",
    "    if t not in datatype:\n",
    "     datatype.append(t)\n",
    "    \n",
    "print(\"Number of data types in tuple:\", len(datatype))\n",
    "    \n",
    "\n",
    "    \n",
    "    \n",
    "\n"
   ]
  },
  {
   "cell_type": "code",
   "execution_count": null,
   "metadata": {},
   "outputs": [
    {
     "name": "stdout",
     "output_type": "stream",
     "text": [
      "{1, 2, 3, 4}\n",
      "{1, 2, 3, 4, 5}\n",
      "{1, 2, 3, 5}\n",
      "{1, 2, 3}\n"
     ]
    }
   ],
   "source": [
    "s={1,2,3}\n",
    "s.add(4)\n",
    "print(s)\n",
    "s1={1,2,3,4,5}\n",
    "s.update(s1)\n",
    "print(s)\n",
    "s.discard(4) #use for discarding an element without giving an error if the element not present in the set. \n",
    "print(s)\n",
    "s.remove(5)  #use for discarding an element by giving an error if the element not present in the set .\n",
    "print(s)"
   ]
  },
  {
   "cell_type": "code",
   "execution_count": 50,
   "metadata": {},
   "outputs": [
    {
     "name": "stdout",
     "output_type": "stream",
     "text": [
      "{100: 'Debolina', 101: 'Dipsikha', 102: 'Olivia'}\n",
      "key= 100 value= Debolina\n",
      "key= 101 value= Dipsikha\n",
      "key= 102 value= Olivia\n"
     ]
    }
   ],
   "source": [
    "d={100:\"Debolina\" , 101:\"Dipsikha\", 102:\"Olivia\"}\n",
    "print(d)\n",
    "for k in d:\n",
    "    print(\"key=\",k,\"value=\",d[k])"
   ]
  },
  {
   "cell_type": "code",
   "execution_count": 1,
   "metadata": {},
   "outputs": [
    {
     "name": "stdout",
     "output_type": "stream",
     "text": [
      "enter the word for letter a\n",
      "enter the word for letter b\n",
      "enter the word for letter c\n",
      "enter the word for letter d\n",
      "enter the word for letter e\n",
      "{'a': '', 'b': 'apple', 'c': 'ball', 'd': '', 'e': ''}\n"
     ]
    }
   ],
   "source": [
    "words = {}\n",
    "\n",
    "l=['a','b','c','d','e']\n",
    "\n",
    "for x in l:\n",
    "    print(\"enter the word for letter\",x)\n",
    "    words[x]=input()\n",
    "    \n",
    "print(words)\n"
   ]
  }
 ],
 "metadata": {
  "kernelspec": {
   "display_name": "Python 3",
   "language": "python",
   "name": "python3"
  },
  "language_info": {
   "codemirror_mode": {
    "name": "ipython",
    "version": 3
   },
   "file_extension": ".py",
   "mimetype": "text/x-python",
   "name": "python",
   "nbconvert_exporter": "python",
   "pygments_lexer": "ipython3",
   "version": "3.13.1"
  }
 },
 "nbformat": 4,
 "nbformat_minor": 2
}
